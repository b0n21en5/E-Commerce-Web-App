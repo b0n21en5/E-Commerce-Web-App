{
 "cells": [
  {
   "cell_type": "code",
   "execution_count": null,
   "id": "7cb4b5b2",
   "metadata": {},
   "outputs": [],
   "source": []
  },
  {
   "cell_type": "code",
   "execution_count": null,
   "id": "b81793e1",
   "metadata": {},
   "outputs": [],
   "source": []
  },
  {
   "cell_type": "code",
   "execution_count": 1,
   "id": "f48d59f5",
   "metadata": {},
   "outputs": [],
   "source": [
    "import bs4\n",
    "import requests\n",
    "from csv import writer\n",
    "\n",
    "\n",
    "\n",
    "\n",
    "url='https://www.pararius.com/apartments/amsterdam'\n",
    "\n",
    "page=requests.get(url)\n",
    "\n",
    "\n",
    "soup=bs4.BeautifulSoup(page.content,'html.parser')\n",
    "\n",
    "\n",
    "\n",
    "lists = soup.find_all('section',class_='listing-search-item')\n",
    "\n",
    "\n",
    "with open('housing.csv','w',encoding='utf8', newline='') as s:\n",
    "    \n",
    "    thewriter=writer(s)\n",
    "    \n",
    "    header=['Title','Location','Area','Price']\n",
    "    \n",
    "    thewriter.writerow(header)\n",
    "\n",
    "    for i in lists:\n",
    "\n",
    "        title = i.find('a',class_='listing-search-item__link--title').text.replace('\\n','')\n",
    "        \n",
    "        location = i.find('div',class_='listing-search-item__sub-title').text.replace('\\n','')\n",
    "        \n",
    "        area = i.find('li',class_='illustrated-features__item illustrated-features__item--surface-area').text.replace('\\n','')\n",
    "        \n",
    "        price = i.find('div',class_='listing-search-item__price').text.replace('\\n','')\n",
    "        \n",
    "        info = [title,location, area, price]\n",
    "        \n",
    "        thewriter.writerow(info)\n",
    "        \n",
    "\n",
    "        \n"
   ]
  },
  {
   "cell_type": "code",
   "execution_count": 2,
   "id": "efbac59f",
   "metadata": {},
   "outputs": [],
   "source": []
  }
 ],
 "metadata": {
  "kernelspec": {
   "display_name": "Python 3 (ipykernel)",
   "language": "python",
   "name": "python3"
  },
  "language_info": {
   "codemirror_mode": {
    "name": "ipython",
    "version": 3
   },
   "file_extension": ".py",
   "mimetype": "text/x-python",
   "name": "python",
   "nbconvert_exporter": "python",
   "pygments_lexer": "ipython3",
   "version": "3.9.12"
  }
 },
 "nbformat": 4,
 "nbformat_minor": 5
}
